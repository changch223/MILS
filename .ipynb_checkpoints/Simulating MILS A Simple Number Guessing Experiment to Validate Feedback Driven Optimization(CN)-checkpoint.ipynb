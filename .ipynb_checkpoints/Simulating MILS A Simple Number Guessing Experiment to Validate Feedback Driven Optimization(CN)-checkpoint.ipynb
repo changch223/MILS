{
 "cells": [
  {
   "cell_type": "code",
   "execution_count": 39,
   "id": "12dad00e-be6c-4c13-925e-72a3d426d7c5",
   "metadata": {},
   "outputs": [
    {
     "name": "stdout",
     "output_type": "stream",
     "text": [
      "Secret answer: 139325551448\n",
      "Iteration 1: Best guess = 139352920999, Percent Difference = 0.019644%\n",
      "Iteration 2: Best guess = 139316086870, Percent Difference = 0.006793%\n",
      "Iteration 3: Best guess = 139313275447, Percent Difference = 0.008811%\n",
      "Iteration 4: Best guess = 139327411981, Percent Difference = 0.001335%\n",
      "Iteration 5: Best guess = 139320276746, Percent Difference = 0.003786%\n",
      "Iteration 6: Best guess = 139337704827, Percent Difference = 0.008723%\n",
      "Iteration 7: Best guess = 139324946088, Percent Difference = 0.000434%\n",
      "Iteration 8: Best guess = 139337178927, Percent Difference = 0.008346%\n",
      "Iteration 9: Best guess = 139335295247, Percent Difference = 0.006994%\n",
      "Iteration 10: Best guess = 139325780090, Percent Difference = 0.000164%\n",
      "Final best guess: 139325780090, Final Percent Difference = 0.000164%\n"
     ]
    }
   ],
   "source": [
    "import random\n",
    "\n",
    "def score(guess, answer):\n",
    "    \"\"\"Higher score for smaller distance.\"\"\"\n",
    "    return -abs(guess - answer)\n",
    "\n",
    "def generate_candidates_from_range(min_value, max_value, num_candidates=50):\n",
    "    \"\"\"Generate candidates uniformly within a given range.\"\"\"\n",
    "    candidates = [\n",
    "        random.randint(min_value, max_value)\n",
    "        for _ in range(num_candidates)\n",
    "    ]\n",
    "    return candidates\n",
    "\n",
    "def iterative_guessing(iterations=10, initial_pool=30000):\n",
    "    \"\"\"Run the iterative guessing process, updating generation range based on newly generated candidates.\"\"\"\n",
    "    answer = random.randint(1, 999_999_999_999)\n",
    "    print(f\"Secret answer: {answer}\")\n",
    "    \n",
    "    # 初始隨機產生\n",
    "    candidates = [random.randint(1, 999_999_999_999) for _ in range(initial_pool)]\n",
    "\n",
    "    # 選出初始的最好的候選\n",
    "    scored = [(score(x, answer), x) for x in candidates]\n",
    "    scored.sort(reverse=True)\n",
    "    top_candidates = [x for _, x in scored[:50]]  # 初始top50\n",
    "\n",
    "    # 以top50的最小最大作為第一個範圍\n",
    "    min_top = min(top_candidates)\n",
    "    max_top = max(top_candidates)\n",
    "    \n",
    "    for i in range(iterations):\n",
    "        # 用當前範圍生成新的50個候選\n",
    "        candidates = generate_candidates_from_range(min_top, max_top, num_candidates=50)\n",
    "        \n",
    "        # 評分新的候選\n",
    "        scored = [(score(x, answer), x) for x in candidates]\n",
    "        scored.sort(reverse=True)\n",
    "        best_guess = scored[0][1]\n",
    "        \n",
    "        # 計算差距百分比\n",
    "        percent_difference = abs(best_guess - answer) / answer * 100\n",
    "        \n",
    "        # 印出當前迭代狀態\n",
    "        print(f\"Iteration {i+1}: Best guess = {best_guess}, Percent Difference = {percent_difference:.6f}%\")\n",
    "        #print(f\"Iteration {i+1}: Range = [{min_top}, {max_top}]\")\n",
    "        \n",
    "        # 直接根據新生成的50個值更新範圍\n",
    "        min_top = min(candidates)\n",
    "        max_top = max(candidates)\n",
    "    \n",
    "    # 最後一輪再選最好的\n",
    "    final_best = scored[0][1]\n",
    "    final_percent_difference = abs(final_best - answer) / answer * 100\n",
    "    print(f\"Final best guess: {final_best}, Final Percent Difference = {final_percent_difference:.6f}%\")\n",
    "    \n",
    "    return answer, final_best\n",
    "\n",
    "if __name__ == \"__main__\":\n",
    "    iterative_guessing()\n"
   ]
  },
  {
   "cell_type": "code",
   "execution_count": null,
   "id": "27072db2-54f4-4ff9-8be6-518d664d934a",
   "metadata": {},
   "outputs": [],
   "source": []
  }
 ],
 "metadata": {
  "kernelspec": {
   "display_name": "Python [conda env:MILS]",
   "language": "python",
   "name": "conda-env-MILS-py"
  },
  "language_info": {
   "codemirror_mode": {
    "name": "ipython",
    "version": 3
   },
   "file_extension": ".py",
   "mimetype": "text/x-python",
   "name": "python",
   "nbconvert_exporter": "python",
   "pygments_lexer": "ipython3",
   "version": "3.12.10"
  }
 },
 "nbformat": 4,
 "nbformat_minor": 5
}
